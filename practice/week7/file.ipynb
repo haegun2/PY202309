{
 "cells": [
  {
   "cell_type": "code",
   "execution_count": 4,
   "metadata": {},
   "outputs": [
    {
     "name": "stdout",
     "output_type": "stream",
     "text": [
      "|20231016\n",
      "|\n",
      "|저녁뭐먹지 저녁뭐먹지 저녁뭐먹지|\n",
      "||\n"
     ]
    }
   ],
   "source": [
    "fp = open(\"test.txt\",\"r\", encoding=\"utf-8\")\n",
    "data_line= fp.readline()\n",
    "print(\"|\"+data_line+\"|\")\n",
    "data_line= fp.readline()\n",
    "print(\"|\"+data_line+\"|\")\n",
    "data_line= fp.readline()\n",
    "print(\"|\"+data_line+\"|\")"
   ]
  },
  {
   "cell_type": "code",
   "execution_count": 6,
   "metadata": {},
   "outputs": [
    {
     "name": "stdout",
     "output_type": "stream",
     "text": [
      "['20231016\\n', '저녁뭐먹지 저녁뭐먹지 저녁뭐먹지']\n"
     ]
    }
   ],
   "source": [
    "fp = open(\"test.txt\",\"r\", encoding=\"utf-8\")\n",
    "print(fp.readlines())"
   ]
  },
  {
   "cell_type": "code",
   "execution_count": 4,
   "metadata": {},
   "outputs": [],
   "source": [
    "lines = [\"짬뽕\", \"짜장\"]\n",
    "\n",
    "fp = open(\"test.txt\",\"w\")\n",
    "fp.writelines(lines)\n",
    "fp.close()\n",
    "\n",
    "fp = open(\"test.txt_join.txt\",\"w\")\n",
    "fp.writelines('\\n'.join(lines))\n",
    "fp.close()\n",
    "\n",
    "fp = open(\"test.txt_join.txt\",\"w\")\n",
    "fp.writelines('\\n'.join(lines))\n",
    "fp.close()\n",
    "\n",
    "fp = open(\"test.txt\",\"w\")\n",
    "fp.writelines(lines)\n",
    "fp.close()"
   ]
  },
  {
   "cell_type": "code",
   "execution_count": 3,
   "metadata": {},
   "outputs": [
    {
     "name": "stdout",
     "output_type": "stream",
     "text": [
      "input a file name:test.txt\n",
      "out a file name:test333.txt\n"
     ]
    },
    {
     "ename": "UnicodeDecodeError",
     "evalue": "'utf-8' codec can't decode byte 0xbb in position 2: invalid start byte",
     "output_type": "error",
     "traceback": [
      "\u001b[1;31m---------------------------------------------------------------------------\u001b[0m",
      "\u001b[1;31mUnicodeDecodeError\u001b[0m                        Traceback (most recent call last)",
      "\u001b[1;32m<ipython-input-3-da6697b07340>\u001b[0m in \u001b[0;36m<module>\u001b[1;34m\u001b[0m\n\u001b[0;32m      8\u001b[0m \u001b[0mout_fp\u001b[0m \u001b[1;33m=\u001b[0m \u001b[0mopen\u001b[0m\u001b[1;33m(\u001b[0m\u001b[0mout_file_path\u001b[0m\u001b[1;33m,\u001b[0m\u001b[1;34m\"w\"\u001b[0m\u001b[1;33m,\u001b[0m \u001b[0mencoding\u001b[0m\u001b[1;33m=\u001b[0m\u001b[1;34m\"utf-8\"\u001b[0m\u001b[1;33m)\u001b[0m\u001b[1;33m\u001b[0m\u001b[1;33m\u001b[0m\u001b[0m\n\u001b[0;32m      9\u001b[0m \u001b[1;33m\u001b[0m\u001b[0m\n\u001b[1;32m---> 10\u001b[1;33m \u001b[0min_lines\u001b[0m \u001b[1;33m=\u001b[0m \u001b[0min_fp\u001b[0m\u001b[1;33m.\u001b[0m\u001b[0mreadlines\u001b[0m\u001b[1;33m(\u001b[0m\u001b[1;33m)\u001b[0m\u001b[1;33m\u001b[0m\u001b[1;33m\u001b[0m\u001b[0m\n\u001b[0m\u001b[0;32m     11\u001b[0m \u001b[1;32mfor\u001b[0m \u001b[0min_str\u001b[0m \u001b[1;32min\u001b[0m \u001b[0min_lines\u001b[0m\u001b[1;33m:\u001b[0m\u001b[1;33m\u001b[0m\u001b[1;33m\u001b[0m\u001b[0m\n\u001b[0;32m     12\u001b[0m     \u001b[0mout_fp\u001b[0m\u001b[1;33m.\u001b[0m\u001b[0mwritelines\u001b[0m\u001b[1;33m(\u001b[0m\u001b[0min_str\u001b[0m\u001b[1;33m)\u001b[0m\u001b[1;33m\u001b[0m\u001b[1;33m\u001b[0m\u001b[0m\n",
      "\u001b[1;32mC:\\ProgramData\\Anaconda\\lib\\codecs.py\u001b[0m in \u001b[0;36mdecode\u001b[1;34m(self, input, final)\u001b[0m\n\u001b[0;32m    320\u001b[0m         \u001b[1;31m# decode input (taking the buffer into account)\u001b[0m\u001b[1;33m\u001b[0m\u001b[1;33m\u001b[0m\u001b[1;33m\u001b[0m\u001b[0m\n\u001b[0;32m    321\u001b[0m         \u001b[0mdata\u001b[0m \u001b[1;33m=\u001b[0m \u001b[0mself\u001b[0m\u001b[1;33m.\u001b[0m\u001b[0mbuffer\u001b[0m \u001b[1;33m+\u001b[0m \u001b[0minput\u001b[0m\u001b[1;33m\u001b[0m\u001b[1;33m\u001b[0m\u001b[0m\n\u001b[1;32m--> 322\u001b[1;33m         \u001b[1;33m(\u001b[0m\u001b[0mresult\u001b[0m\u001b[1;33m,\u001b[0m \u001b[0mconsumed\u001b[0m\u001b[1;33m)\u001b[0m \u001b[1;33m=\u001b[0m \u001b[0mself\u001b[0m\u001b[1;33m.\u001b[0m\u001b[0m_buffer_decode\u001b[0m\u001b[1;33m(\u001b[0m\u001b[0mdata\u001b[0m\u001b[1;33m,\u001b[0m \u001b[0mself\u001b[0m\u001b[1;33m.\u001b[0m\u001b[0merrors\u001b[0m\u001b[1;33m,\u001b[0m \u001b[0mfinal\u001b[0m\u001b[1;33m)\u001b[0m\u001b[1;33m\u001b[0m\u001b[1;33m\u001b[0m\u001b[0m\n\u001b[0m\u001b[0;32m    323\u001b[0m         \u001b[1;31m# keep undecoded input until the next call\u001b[0m\u001b[1;33m\u001b[0m\u001b[1;33m\u001b[0m\u001b[1;33m\u001b[0m\u001b[0m\n\u001b[0;32m    324\u001b[0m         \u001b[0mself\u001b[0m\u001b[1;33m.\u001b[0m\u001b[0mbuffer\u001b[0m \u001b[1;33m=\u001b[0m \u001b[0mdata\u001b[0m\u001b[1;33m[\u001b[0m\u001b[0mconsumed\u001b[0m\u001b[1;33m:\u001b[0m\u001b[1;33m]\u001b[0m\u001b[1;33m\u001b[0m\u001b[1;33m\u001b[0m\u001b[0m\n",
      "\u001b[1;31mUnicodeDecodeError\u001b[0m: 'utf-8' codec can't decode byte 0xbb in position 2: invalid start byte"
     ]
    }
   ],
   "source": [
    "in_fp, out_fp = None, None\n",
    "read_std = \"\"\n",
    "\n",
    "in_file_path = input(\"input a file name:\")\n",
    "out_file_path = input(\"out a file name:\")\n",
    "\n",
    "in_fp = open(in_file_path,\"r\", encoding=\"utf-8\")\n",
    "out_fp = open(out_file_path,\"w\", encoding=\"utf-8\")\n",
    "\n",
    "in_lines = in_fp.readlines()\n",
    "for in_str in in_lines:\n",
    "    out_fp.writelines(in_str)\n",
    "\n",
    "in_fp.close()\n",
    "out_fp.close()\n",
    "print(\"finish\")\n"
   ]
  },
  {
   "cell_type": "code",
   "execution_count": 3,
   "metadata": {},
   "outputs": [
    {
     "name": "stdout",
     "output_type": "stream",
     "text": [
      "1.암호화, 2. 복호화 중 선택하세요: 2\n",
      "입력 파일 이름을 입력하세요: unlock.txt\n",
      "출력 파일 이름을 입력하세요: uf.txt\n",
      "unlock.txt --> uf.txt Finish to transform\n"
     ]
    }
   ],
   "source": [
    "choice = int(input(\"1.암호화, 2. 복호화 중 선택하세요: \"))\n",
    "in_filename = input(\"입력 파일 이름을 입력하세요: \")\n",
    "out_filename =input(\"출력 파일 이름을 입력하세요: \")\n",
    "\n",
    "token_jump = 0\n",
    "\n",
    "if choice == 1:\n",
    "    token_jump = 100\n",
    "elif choice == 2:\n",
    "    token_jump = -100\n",
    "    \n",
    "in_fp = open(in_filename, \"r\", encoding=\"utf8\")\n",
    "out_fp = open(out_filename, \"w\", encoding=\"utf8\")\n",
    "\n",
    "in_lines = in_fp.readlines()\n",
    "\n",
    "for in_line in in_lines:\n",
    "    out_str =\"\"\n",
    "    for i in range(0,len(in_line)):\n",
    "        ch = in_line[i]\n",
    "        ch_num = ord(ch)\n",
    "        ch_num += token_jump\n",
    "        ch2 = chr(ch_num)\n",
    "        out_str += ch2\n",
    "        \n",
    "    out_fp.write(out_str)\n",
    "    \n",
    "out_fp.close()\n",
    "in_fp.close()\n",
    "print(\"%s --> %s Finish to transform\"%(in_filename, out_filename))"
   ]
  },
  {
   "cell_type": "code",
   "execution_count": null,
   "metadata": {},
   "outputs": [],
   "source": []
  }
 ],
 "metadata": {
  "kernelspec": {
   "display_name": "Python 3",
   "language": "python",
   "name": "python3"
  },
  "language_info": {
   "codemirror_mode": {
    "name": "ipython",
    "version": 3
   },
   "file_extension": ".py",
   "mimetype": "text/x-python",
   "name": "python",
   "nbconvert_exporter": "python",
   "pygments_lexer": "ipython3",
   "version": "3.8.3"
  }
 },
 "nbformat": 4,
 "nbformat_minor": 4
}
