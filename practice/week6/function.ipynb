{
 "cells": [
  {
   "cell_type": "code",
   "execution_count": 1,
   "metadata": {},
   "outputs": [
    {
     "name": "stdout",
     "output_type": "stream",
     "text": [
      "**start Lotto**\n",
      "Number:  14 15 36 40 41 43 "
     ]
    }
   ],
   "source": [
    "#랜덤값 사용을 위해 작성\n",
    "import random \n",
    "\n",
    "#숫자를 랜덤으로 범위지정된 곳에서 가져오는 함수를 작성\n",
    "def get_number():\n",
    "    return random.randrange(1,46)\n",
    "#로또가 리스트임을 알려줌\n",
    "lotto = []\n",
    "num = 0\n",
    "print(\"**start Lotto**\")\n",
    "#반복문을 생성 - get number 함수에서 숫자를 가져와 변수 num에 지정한 후\n",
    "while True:\n",
    "    num = get_number()\n",
    "    #lotto리스트에 방금 가져온 숫자가 없으면 리스트에 추가\n",
    "    if lotto.count(num) == 0:\n",
    "        lotto.append(num)\n",
    "    #lotto 리스트의 갯수가 여섯개가 된다면 그만 가져옴\n",
    "    if len(lotto) >= 6:\n",
    "        break\n",
    "        \n",
    "print(\"Number: \", end = ' ')\n",
    "lotto.sort() #오름차순으로 변경했고\n",
    "for number in lotto:\n",
    "    print(number,end=' ') #출력함"
   ]
  },
  {
   "cell_type": "code",
   "execution_count": null,
   "metadata": {},
   "outputs": [],
   "source": []
  }
 ],
 "metadata": {
  "kernelspec": {
   "display_name": "Python 3",
   "language": "python",
   "name": "python3"
  },
  "language_info": {
   "codemirror_mode": {
    "name": "ipython",
    "version": 3
   },
   "file_extension": ".py",
   "mimetype": "text/x-python",
   "name": "python",
   "nbconvert_exporter": "python",
   "pygments_lexer": "ipython3",
   "version": "3.8.3"
  }
 },
 "nbformat": 4,
 "nbformat_minor": 4
}
