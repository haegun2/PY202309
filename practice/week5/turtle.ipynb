{
 "cells": [
  {
   "cell_type": "code",
   "execution_count": 13,
   "metadata": {},
   "outputs": [
    {
     "name": "stdout",
     "output_type": "stream",
     "text": [
      "turtle bye!\n"
     ]
    }
   ],
   "source": [
    "import turtle\n",
    "\n",
    "screen_width, screen_height = 100, 100 #그릴 크기지정\n",
    "\n",
    "turtle.title(\"Drawing rainbow circles\") #프로그램 제목 지정\n",
    "turtle.shape(\"turtle\")\n",
    "turtle.setup(width=screen_width+50, height = screen_height +50)\n",
    "turtle.screensize(screen_width, screen_height)\n",
    "turtle.penup()\n",
    "turtle.goto(0,-screen_height/2) #거북이를 프로그램 크기 x좌표 한가운데로 이동\n",
    "turtle.pendown()\n",
    "turtle.speed(5)\n",
    "\n",
    "for radius in range(50):\n",
    "    if radius%7==0:\n",
    "        turtle.pencolor('red') # 각각을 7로 나눈 나머지 값으로 색을 변경하여 그리는\n",
    "    elif radius %7 ==1: #for문으로 50까지를 반복하면서 7색을 그림\n",
    "        turtle.pencolor('orange')\n",
    "    elif radius %7 ==2:\n",
    "        turtle.pencolor('yellow')\n",
    "    elif radius %7 ==3:\n",
    "        turtle.pencolor('green')\n",
    "    elif radius %7 ==4:\n",
    "        turtle.pencolor('blue')\n",
    "    elif radius %7 ==5:\n",
    "        turtle.pencolor('navyblue')\n",
    "    elif radius %7 ==6:\n",
    "        turtle.pencolor('purple')    \n",
    "    turtle.circle(radius) #색 변환 위에서 한 뒤 반경만큼 원을 그림\n",
    "turtle.done()\n",
    "\n",
    "try:\n",
    "    turtle.bye()\n",
    "except:\n",
    "    print(\"turtle bye!\")"
   ]
  },
  {
   "cell_type": "code",
   "execution_count": null,
   "metadata": {},
   "outputs": [],
   "source": []
  }
 ],
 "metadata": {
  "kernelspec": {
   "display_name": "Python 3",
   "language": "python",
   "name": "python3"
  },
  "language_info": {
   "codemirror_mode": {
    "name": "ipython",
    "version": 3
   },
   "file_extension": ".py",
   "mimetype": "text/x-python",
   "name": "python",
   "nbconvert_exporter": "python",
   "pygments_lexer": "ipython3",
   "version": "3.8.3"
  }
 },
 "nbformat": 4,
 "nbformat_minor": 4
}
