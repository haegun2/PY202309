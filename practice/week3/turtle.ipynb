{
 "cells": [
  {
   "cell_type": "code",
   "execution_count": 10,
   "metadata": {},
   "outputs": [
    {
     "name": "stdout",
     "output_type": "stream",
     "text": [
      "turtle bye!\n"
     ]
    }
   ],
   "source": [
    "import turtle\n",
    "t= turtle.Turtle()\n",
    "t. left(90)\n",
    "\n",
    "word_fteq= {\"apple\" : 5, \"banana\" : 8, \"cherry\" : 2, \"grape\" : 1}\n",
    "\n",
    "x = -200\n",
    "\n",
    "\n",
    "for word, freq in word_fteq.items():\n",
    "    t. penup()\n",
    "    t.goto(x,0)\n",
    "    \n",
    "    t.write(f\"{word}:{freq}\", font=(\"Arial\", 12, \"normal\"))\n",
    "    \n",
    "    t.goto(x,30)\n",
    "    t.pendown()\n",
    "    t.forward(freq * 10)\n",
    "    \n",
    "    x+= 100\n",
    "    \n",
    "turtle.done()\n",
    "try:\n",
    "    turtle.bye()\n",
    "except:\n",
    "    print(\"turtle bye!\")"
   ]
  },
  {
   "cell_type": "code",
   "execution_count": null,
   "metadata": {},
   "outputs": [],
   "source": []
  }
 ],
 "metadata": {
  "kernelspec": {
   "display_name": "Python 3",
   "language": "python",
   "name": "python3"
  },
  "language_info": {
   "codemirror_mode": {
    "name": "ipython",
    "version": 3
   },
   "file_extension": ".py",
   "mimetype": "text/x-python",
   "name": "python",
   "nbconvert_exporter": "python",
   "pygments_lexer": "ipython3",
   "version": "3.8.3"
  }
 },
 "nbformat": 4,
 "nbformat_minor": 4
}
