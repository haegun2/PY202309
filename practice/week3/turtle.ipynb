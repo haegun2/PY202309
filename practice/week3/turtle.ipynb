{
 "cells": [
  {
   "cell_type": "code",
   "execution_count": 2,
   "metadata": {},
   "outputs": [
    {
     "name": "stdout",
     "output_type": "stream",
     "text": [
      "turtle bye!\n"
     ]
    }
   ],
   "source": [
    "import turtle\n",
    "t= turtle.Turtle()\n",
    "t. left(90)\n",
    "\n",
    "word_fteq= {\"apple\" : 5, \"banana\" : 8, \"cherry\" : 2, \"grape\" : 1}\n",
    "#딕셔너리로 키와 밸류를 각각 저장\n",
    "\n",
    "x = -200\n",
    "#거북이를 -200으로 x좌표이동\n",
    "\n",
    "\n",
    "for word, freq in word_fteq.items(): #딕셔너리 만큼 반복할 예정\n",
    "    t. penup()\n",
    "    t.goto(x,0)\n",
    "    \n",
    "    t.write(f\"{word}:{freq}\", font=(\"Arial\", 12, \"normal\")) #키 : 밸류 로 밑에 글씨 적음\n",
    "    \n",
    "    t.goto(x,30) #그래프를 그리기 위하여 위로 이동\n",
    "    t.pendown() #그리기 시작\n",
    "    t.forward(freq * 10) #밸류값*10 만큼 위로 이동하면서 (그래프)를 그림\n",
    "    \n",
    "    x+= 100 #회차가 끝나면 x좌표를 100만큼 이동한 후 반복\n",
    "    \n",
    "turtle.done()\n",
    "try:\n",
    "    turtle.bye()\n",
    "except: #나와지면 터틀 바이 출력!\n",
    "    print(\"turtle bye!\")"
   ]
  },
  {
   "cell_type": "code",
   "execution_count": null,
   "metadata": {},
   "outputs": [],
   "source": []
  }
 ],
 "metadata": {
  "kernelspec": {
   "display_name": "Python 3",
   "language": "python",
   "name": "python3"
  },
  "language_info": {
   "codemirror_mode": {
    "name": "ipython",
    "version": 3
   },
   "file_extension": ".py",
   "mimetype": "text/x-python",
   "name": "python",
   "nbconvert_exporter": "python",
   "pygments_lexer": "ipython3",
   "version": "3.8.3"
  }
 },
 "nbformat": 4,
 "nbformat_minor": 4
}
