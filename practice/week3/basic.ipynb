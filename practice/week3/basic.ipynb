{
 "cells": [
  {
   "cell_type": "code",
   "execution_count": 4,
   "metadata": {},
   "outputs": [
    {
     "name": "stdout",
     "output_type": "stream",
     "text": [
      "1. current list =  [30, 10, 20, 50, 40]\n",
      "2. append(60) =  [30, 10, 20, 50, 40, 60]\n",
      "3. item after pop() =  60\n",
      "4. list after pop() =  [30, 10, 20, 50, 40]\n",
      "5. after sort() =  [10, 20, 30, 40, 50]\n",
      "6. after reverse() =  [50, 40, 30, 20, 10]\n",
      "7.index for 20 =  3\n",
      "8. after insert(2,222) =  [50, 40, 222, 30, 20, 10]\n",
      "9. after remobe(222) =  [50, 40, 30, 20, 10]\n",
      "10. after extend([100, 200, 100]) =  [50, 40, 30, 20, 10, 100, 200, 100]\n",
      "11. the number of 100 =  2\n",
      "3. item after pop() =  100\n"
     ]
    }
   ],
   "source": [
    "sample_list = [30, 10, 20, 50, 40]\n",
    "print(\"1. current list = \", sample_list)\n",
    "#기본 리스트\n",
    "\n",
    "sample_list.append(60)\n",
    "print(\"2. append(60) = \", sample_list)\n",
    "#리스트에 60을 추가함\n",
    "\n",
    "print(\"3. item after pop() = \", sample_list.pop())\n",
    "#마지막 값 지워버림 그리고 뭘 지웠는지 봄\n",
    "print(\"4. list after pop() = \", sample_list)\n",
    "#지우고는 변화가 어떤지 봄\n",
    "\n",
    "\n",
    "sample_list.sort()\n",
    "print(\"5. after sort() = \", sample_list)\n",
    "#오름차순으로 정렬\n",
    "sample_list.reverse()\n",
    "print(\"6. after reverse() = \", sample_list)\n",
    "#내림차순으로 정렬\n",
    "\n",
    "print(\"7.index for 20 = \", sample_list.index(20))\n",
    "#20이 인덱스로 어딘지 찾아봄\n",
    "\n",
    "sample_list.insert(2,222)\n",
    "print(\"8. after insert(2,222) = \", sample_list)\n",
    "#인덱스 2의 자리에 222를 추가함\n",
    "\n",
    "sample_list.remove(222)\n",
    "print(\"9. after remobe(2,222) = \", sample_list)\n",
    "#222를 지우고 리스트를 봄\n",
    "\n",
    "new_list = [100, 200, 100]\n",
    "sample_list.extend(new_list)\n",
    "print(\"10. after extend([100, 200, 100]) = \", sample_list)\n",
    "#뉴리스트까지 샘플 리스트를 확장함\n",
    "\n",
    "print(\"11. the number of 100 = \", sample_list.count(100))\n",
    "#100이 몇번 있는지 봄\n"
   ]
  },
  {
   "cell_type": "code",
   "execution_count": null,
   "metadata": {},
   "outputs": [],
   "source": [
    "import turtle\n",
    "t= turtle.Turtle()\n",
    "radius_list = [100, 200, 50]\n",
    "move = 20\n",
    "\n",
    "t.shape(\"turtle\")\n",
    "\n",
    "for i in range(0, len(radius_list)):\n",
    "    radius =radius_list[i]\n",
    "    t.circle(radius)\n",
    "    t.fd(move)\n",
    "    \n",
    "turtle.done()\n",
    "try:\n",
    "    turtle.bye()\n",
    "except :\n",
    "    print (\"turtle bye!\")"
   ]
  },
  {
   "cell_type": "code",
   "execution_count": 2,
   "metadata": {},
   "outputs": [
    {
     "ename": "SyntaxError",
     "evalue": "invalid syntax (<ipython-input-2-9dff45317a0e>, line 10)",
     "output_type": "error",
     "traceback": [
      "\u001b[1;36m  File \u001b[1;32m\"<ipython-input-2-9dff45317a0e>\"\u001b[1;36m, line \u001b[1;32m10\u001b[0m\n\u001b[1;33m    print(\"average :\" sum(a))\u001b[0m\n\u001b[1;37m                      ^\u001b[0m\n\u001b[1;31mSyntaxError\u001b[0m\u001b[1;31m:\u001b[0m invalid syntax\n"
     ]
    }
   ],
   "source": []
  },
  {
   "cell_type": "code",
   "execution_count": null,
   "metadata": {},
   "outputs": [],
   "source": []
  }
 ],
 "metadata": {
  "kernelspec": {
   "display_name": "Python 3",
   "language": "python",
   "name": "python3"
  },
  "language_info": {
   "codemirror_mode": {
    "name": "ipython",
    "version": 3
   },
   "file_extension": ".py",
   "mimetype": "text/x-python",
   "name": "python",
   "nbconvert_exporter": "python",
   "pygments_lexer": "ipython3",
   "version": "3.8.3"
  }
 },
 "nbformat": 4,
 "nbformat_minor": 4
}
