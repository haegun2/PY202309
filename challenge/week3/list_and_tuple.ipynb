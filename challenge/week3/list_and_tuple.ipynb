{
 "cells": [
  {
   "cell_type": "code",
   "execution_count": 3,
   "metadata": {},
   "outputs": [
    {
     "name": "stdout",
     "output_type": "stream",
     "text": [
      "Enter 1st number : 50\n",
      "Enter 2nd number : 40\n",
      "Enter 3rd number : 90\n",
      "Enter 4th number : 10\n",
      "Enter 5th number : 30\n",
      "max : 90\n",
      "min : 10\n",
      "average : 44.0\n"
     ]
    }
   ],
   "source": [
    "a = [0,0,0,0,0]\n",
    "\n",
    "a[0] = int(input(\"Enter 1st number : \"))\n",
    "a[1] = int(input(\"Enter 2nd number : \"))\n",
    "a[2] = int(input(\"Enter 3rd number : \"))\n",
    "a[3] = int(input(\"Enter 4th number : \"))\n",
    "a[4] = int(input(\"Enter 5th number : \"))\n",
    "\n",
    "print(\"max :\", max(a))\n",
    "print(\"min :\", min(a))\n",
    "print(\"average :\", sum(a)/len(a))"
   ]
  },
  {
   "cell_type": "code",
   "execution_count": 4,
   "metadata": {},
   "outputs": [
    {
     "name": "stdout",
     "output_type": "stream",
     "text": [
      "What is your favorite singer?Oh My Girl\n",
      "['BTS', 'Black Pink', 'Oh My Girl']\n"
     ]
    }
   ],
   "source": [
    "a = ['BTS', 'Black Pink']\n",
    "a.append(str(input(\"What is your favorite singer?\")))\n",
    "print(a)"
   ]
  },
  {
   "cell_type": "code",
   "execution_count": 19,
   "metadata": {},
   "outputs": [
    {
     "name": "stdout",
     "output_type": "stream",
     "text": [
      "('tennis', 'football', 'baseball', 'basketball', 'golf')\n",
      "Please enter on of the sport name from above: golf\n",
      "golf has index number 4\n",
      "enter a number between 0 and 4:2\n",
      "baseball\n"
     ]
    }
   ],
   "source": [
    "sport = ('tennis', 'football', 'baseball', 'basketball', 'golf')\n",
    "print(sport)\n",
    "a = str(input(\"Please enter on of the sport name from above: \"))\n",
    "print(a,\"has index number\",sport.index(a))\n",
    "\n",
    "b = int(input(\"enter a number between 0 and 4:\"))\n",
    "print (sport[b])"
   ]
  },
  {
   "cell_type": "code",
   "execution_count": 42,
   "metadata": {
    "scrolled": true
   },
   "outputs": [
    {
     "name": "stdout",
     "output_type": "stream",
     "text": [
      "menu: Americano, Caffe Latte, Caffe Mocha, Iced Tea\n",
      "Enter the 1st item sold yesterday: a\n",
      "Enter the 2nd item sold yesterday: a\n",
      "Enter the 3rd item sold yesterday: a\n",
      "Enter the 4th item sold yesterday: a\n",
      "Enter the 5th item sold yesterday: Americano\n",
      "Enter the 1st item sold today: Americano\n",
      "Enter the 2nd item sold today: Americano\n",
      "Enter the 3rd item sold today: Americano\n",
      "Enter the 4th item sold today: a\n",
      "Enter the 5th item sold today: a\n",
      "Yesterday sales:  a a a a Americano\n",
      "today sales:  Americano Americano Americano a a\n",
      "Total sales:  a a a a Americano Americano Americano Americano a a\n",
      "Americano sales:  4\n"
     ]
    }
   ],
   "source": [
    "menu = ('Americano', 'Caffe Latte', 'Caffe Mocha', 'Iced Tea')\n",
    "print(\"menu: Americano, Caffe Latte, Caffe Mocha, Iced Tea\")\n",
    "\n",
    "a = [0,0,0,0,0]\n",
    "b = [0,0,0,0,0]\n",
    "\n",
    "\n",
    "a[0] = str(input(\"Enter the 1st item sold yesterday: \"))\n",
    "a[1] = str(input(\"Enter the 2nd item sold yesterday: \"))\n",
    "a[2] = str(input(\"Enter the 3rd item sold yesterday: \"))\n",
    "a[3] = str(input(\"Enter the 4th item sold yesterday: \"))\n",
    "a[4] = str(input(\"Enter the 5th item sold yesterday: \"))\n",
    "\n",
    "b[0] = str(input(\"Enter the 1st item sold today: \"))\n",
    "b[1] = str(input(\"Enter the 2nd item sold today: \"))\n",
    "b[2] = str(input(\"Enter the 3rd item sold today: \"))\n",
    "b[3] = str(input(\"Enter the 4th item sold today: \"))\n",
    "b[4] = str(input(\"Enter the 5th item sold today: \"))\n",
    "\n",
    "c = a+b\n",
    "\n",
    "print(\"Yesterday sales: \", *a)\n",
    "print(\"today sales: \", *b)\n",
    "print(\"Total sales: \", *(a+b))\n",
    "print(\"Americano sales: \", c.count(\"Americano\"))"
   ]
  },
  {
   "cell_type": "code",
   "execution_count": null,
   "metadata": {},
   "outputs": [],
   "source": []
  }
 ],
 "metadata": {
  "kernelspec": {
   "display_name": "Python 3",
   "language": "python",
   "name": "python3"
  },
  "language_info": {
   "codemirror_mode": {
    "name": "ipython",
    "version": 3
   },
   "file_extension": ".py",
   "mimetype": "text/x-python",
   "name": "python",
   "nbconvert_exporter": "python",
   "pygments_lexer": "ipython3",
   "version": "3.8.3"
  }
 },
 "nbformat": 4,
 "nbformat_minor": 4
}
