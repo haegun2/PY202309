{
 "cells": [
  {
   "cell_type": "code",
   "execution_count": 13,
   "metadata": {},
   "outputs": [
    {
     "name": "stdout",
     "output_type": "stream",
     "text": [
      "Enter English number ranging from 1 to 5:one\n",
      "one is 일\n"
     ]
    }
   ],
   "source": [
    "dic = {\"one\" : \"일\", \"two\":\"이\", \"three\":\"삼\", \"four\":\"사\",\"five\":\"오\"} \n",
    "#키와 벨류를 저장\n",
    "a = str(input(\"Enter English number ranging from 1 to 5:\"))\n",
    "#사용자에게 영어로 쓰라고 함\n",
    "print(a, \"is\", dic[a])\n",
    "#그 값에 맞는 벨류값이 출력"
   ]
  },
  {
   "cell_type": "code",
   "execution_count": 1,
   "metadata": {
    "scrolled": true
   },
   "outputs": [
    {
     "name": "stdout",
     "output_type": "stream",
     "text": [
      "Name:  Moving / average: 4.0\n",
      "Name:  Mask girl / average: 3.6666666666666665\n",
      "Name:  Oppenheimer / average: 3.3333333333333335\n"
     ]
    }
   ],
   "source": [
    "ratings = {\"Moving\":{\"Misoo\":4, \"Kwon\":3, \"Soo\":5},\n",
    "           \"Mask girl\":{\"Misoo\":3, \"Kwon\":4, \"Soo\":4}, \n",
    "           \"Oppenheimer\":{\"Misoo\":3, \"Kwon\":3, \"Soo\":4}} #영화와 그 평가값을 딕셔너리로 저장됨\n",
    "moviename = list(ratings.keys()) #키들이 영화제목임(밸류는 평가점수 사람별로)\n",
    "\n",
    "a = sum(list(ratings[moviename[0]].values()))/len(list(ratings[moviename[0]].values()))\n",
    "b = sum(list(ratings[moviename[1]].values()))/len(list(ratings[moviename[1]].values()))\n",
    "c = sum(list(ratings[moviename[2]].values()))/len(list(ratings[moviename[2]].values()))\n",
    "#레이팅에서 무비네임의 값을 ,, 무비네임 값들의 길이로 나눔\n",
    "\n",
    "print(\"Name: \", moviename[0], \"/ average:\", a)\n",
    "print(\"Name: \", moviename[1], \"/ average:\", b)\n",
    "print(\"Name: \", moviename[2], \"/ average:\", c)"
   ]
  },
  {
   "cell_type": "code",
   "execution_count": 15,
   "metadata": {
    "scrolled": true
   },
   "outputs": [
    {
     "name": "stdout",
     "output_type": "stream",
     "text": [
      "enter user1's 1st friend name: 철수\n",
      "enter user1's 1st friend name: 영수\n",
      "enter user1's 1st friend name: 영희\n",
      "enter user2's 1st friend name: 철수\n",
      "enter user2's 1st friend name: 해건\n",
      "enter user2's 1st friend name: 국수\n",
      "All friends: 영수 해건 국수 영희 철수\n"
     ]
    }
   ],
   "source": [
    "u1friend = set() # 집합 생성\n",
    "u2friend = set()\n",
    "\n",
    "u1friend.add(input(\"enter user1's 1st friend name: \"))\n",
    "u1friend.add(input(\"enter user1's 1st friend name: \"))\n",
    "u1friend.add(input(\"enter user1's 1st friend name: \"))\n",
    "#1의 친구들을 집합에 더함\n",
    "\n",
    "u2friend.add(input(\"enter user2's 1st friend name: \"))\n",
    "u2friend.add(input(\"enter user2's 1st friend name: \"))\n",
    "u2friend.add(input(\"enter user2's 1st friend name: \"))\n",
    "#2의 친구들도 집합에 더함\n",
    "\n",
    "print(\"All friends:\", *u1friend.union(u2friend))\n",
    "#출력하는데 합집합으로 출력해서 중복 거름\n"
   ]
  },
  {
   "cell_type": "code",
   "execution_count": 22,
   "metadata": {},
   "outputs": [
    {
     "name": "stdout",
     "output_type": "stream",
     "text": [
      "enter user2's 1st friend name: 철수\n",
      "enter user2's 1st friend name: 영수\n",
      "enter user2's 1st friend name: 영희\n",
      "enter user2's 1st friend name: 철수\n",
      "enter user2's 1st friend name: 해건\n",
      "enter user2's 1st friend name: 국수\n",
      "All friends: 국수 영희 철수 영수 해건\n"
     ]
    }
   ],
   "source": [
    "u1friend = [0,0,0] #리스트 생성\n",
    "u2friend = [0,0,0]\n",
    "\n",
    "u1friend[0] = str(input(\"enter user2's 1st friend name: \"))\n",
    "u1friend[1] = str(input(\"enter user2's 1st friend name: \"))\n",
    "u1friend[2] = str(input(\"enter user2's 1st friend name: \"))\n",
    "#1의 친구들을 리스트 값에 저장\n",
    "u2friend[0] = str(input(\"enter user2's 1st friend name: \"))\n",
    "u2friend[1] = str(input(\"enter user2's 1st friend name: \"))\n",
    "u2friend[2] = str(input(\"enter user2's 1st friend name: \"))\n",
    "#2의 친구들도 리스트값에 저장\n",
    "print(\"All friends:\", *set(u1friend + u2friend))\n",
    "#출력하는데 합한 리스트를 집합으로 출력해서 중복 거르고 출력"
   ]
  },
  {
   "cell_type": "code",
   "execution_count": null,
   "metadata": {},
   "outputs": [],
   "source": []
  }
 ],
 "metadata": {
  "kernelspec": {
   "display_name": "Python 3",
   "language": "python",
   "name": "python3"
  },
  "language_info": {
   "codemirror_mode": {
    "name": "ipython",
    "version": 3
   },
   "file_extension": ".py",
   "mimetype": "text/x-python",
   "name": "python",
   "nbconvert_exporter": "python",
   "pygments_lexer": "ipython3",
   "version": "3.8.3"
  }
 },
 "nbformat": 4,
 "nbformat_minor": 4
}
