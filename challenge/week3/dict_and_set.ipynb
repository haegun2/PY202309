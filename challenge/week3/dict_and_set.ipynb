{
 "cells": [
  {
   "cell_type": "code",
   "execution_count": 13,
   "metadata": {},
   "outputs": [
    {
     "name": "stdout",
     "output_type": "stream",
     "text": [
      "Enter English number ranging from 1 to 5:one\n",
      "one is 일\n"
     ]
    }
   ],
   "source": [
    "dic = {\"one\" : \"일\", \"two\":\"이\", \"three\":\"삼\", \"four\":\"사\",\"five\":\"오\"}\n",
    "a = str(input(\"Enter English number ranging from 1 to 5:\"))\n",
    "\n",
    "print(a, \"is\", dic[a])"
   ]
  },
  {
   "cell_type": "code",
   "execution_count": 22,
   "metadata": {
    "scrolled": true
   },
   "outputs": [
    {
     "name": "stdout",
     "output_type": "stream",
     "text": [
      "Name:  Moving / average: 4.0\n",
      "Name:  Mask girl / average: 3.6666666666666665\n",
      "Name:  Oppenheimer / average: 3.3333333333333335\n"
     ]
    }
   ],
   "source": [
    "ratings = {\"Moving\":{\"Misoo\":4, \"Kwon\":3, \"Soo\":5},\n",
    "           \"Mask girl\":{\"Misoo\":3, \"Kwon\":4, \"Soo\":4}, \n",
    "           \"Oppenheimer\":{\"Misoo\":3, \"Kwon\":3, \"Soo\":4}}\n",
    "moviename = list(ratings.keys())\n",
    "\n",
    "a = sum(list(ratings[moviename[0]].values()))/len(list(ratings[moviename[2]].values()))\n",
    "b = sum(list(ratings[moviename[1]].values()))/len(list(ratings[moviename[2]].values()))\n",
    "c = sum(list(ratings[moviename[2]].values()))/len(list(ratings[moviename[2]].values()))\n",
    "\n",
    "print(\"Name: \", moviename[0], \"/ average:\", a)\n",
    "print(\"Name: \", moviename[1], \"/ average:\", b)\n",
    "print(\"Name: \", moviename[2], \"/ average:\", c)"
   ]
  },
  {
   "cell_type": "code",
   "execution_count": 15,
   "metadata": {
    "scrolled": true
   },
   "outputs": [
    {
     "name": "stdout",
     "output_type": "stream",
     "text": [
      "enter user1's 1st friend name: 철수\n",
      "enter user1's 1st friend name: 영수\n",
      "enter user1's 1st friend name: 영희\n",
      "enter user2's 1st friend name: 철수\n",
      "enter user2's 1st friend name: 해건\n",
      "enter user2's 1st friend name: 국수\n",
      "All friends: 영수 해건 국수 영희 철수\n"
     ]
    }
   ],
   "source": [
    "u1friend = set()\n",
    "u2friend = set()\n",
    "\n",
    "u1friend.add(input(\"enter user1's 1st friend name: \"))\n",
    "u1friend.add(input(\"enter user1's 1st friend name: \"))\n",
    "u1friend.add(input(\"enter user1's 1st friend name: \"))\n",
    "\n",
    "u2friend.add(input(\"enter user2's 1st friend name: \"))\n",
    "u2friend.add(input(\"enter user2's 1st friend name: \"))\n",
    "u2friend.add(input(\"enter user2's 1st friend name: \"))\n",
    "\n",
    "print(\"All friends:\", *u1friend.union(u2friend))\n"
   ]
  },
  {
   "cell_type": "code",
   "execution_count": 22,
   "metadata": {},
   "outputs": [
    {
     "name": "stdout",
     "output_type": "stream",
     "text": [
      "enter user2's 1st friend name: 철수\n",
      "enter user2's 1st friend name: 영수\n",
      "enter user2's 1st friend name: 영희\n",
      "enter user2's 1st friend name: 철수\n",
      "enter user2's 1st friend name: 해건\n",
      "enter user2's 1st friend name: 국수\n",
      "All friends: 국수 영희 철수 영수 해건\n"
     ]
    }
   ],
   "source": [
    "u1friend = [0,0,0]\n",
    "u2friend = [0,0,0]\n",
    "\n",
    "u1friend[0] = str(input(\"enter user2's 1st friend name: \"))\n",
    "u1friend[1] = str(input(\"enter user2's 1st friend name: \"))\n",
    "u1friend[2] = str(input(\"enter user2's 1st friend name: \"))\n",
    "\n",
    "u2friend[0] = str(input(\"enter user2's 1st friend name: \"))\n",
    "u2friend[1] = str(input(\"enter user2's 1st friend name: \"))\n",
    "u2friend[2] = str(input(\"enter user2's 1st friend name: \"))\n",
    "\n",
    "print(\"All friends:\", *set(u1friend + u2friend))\n"
   ]
  },
  {
   "cell_type": "code",
   "execution_count": null,
   "metadata": {},
   "outputs": [],
   "source": []
  }
 ],
 "metadata": {
  "kernelspec": {
   "display_name": "Python 3",
   "language": "python",
   "name": "python3"
  },
  "language_info": {
   "codemirror_mode": {
    "name": "ipython",
    "version": 3
   },
   "file_extension": ".py",
   "mimetype": "text/x-python",
   "name": "python",
   "nbconvert_exporter": "python",
   "pygments_lexer": "ipython3",
   "version": "3.8.3"
  }
 },
 "nbformat": 4,
 "nbformat_minor": 4
}
