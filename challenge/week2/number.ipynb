{
 "cells": [
  {
   "cell_type": "code",
   "execution_count": 3,
   "metadata": {},
   "outputs": [
    {
     "name": "stdout",
     "output_type": "stream",
     "text": [
      "What do you call a bear with no teeth?\n",
      "A gummy bear!\n"
     ]
    }
   ],
   "source": [
    "print(\"What do you call a bear with no teeth?\\nA gummy bear!\")\n"
   ]
  },
  {
   "cell_type": "code",
   "execution_count": 4,
   "metadata": {
    "scrolled": true
   },
   "outputs": [
    {
     "name": "stdout",
     "output_type": "stream",
     "text": [
      "Enter your name: 민수\n",
      "Hello 민수\n"
     ]
    }
   ],
   "source": [
    "A = str(input(\"Enter your name: \"))\n",
    "print(\"Hello\", A)"
   ]
  },
  {
   "cell_type": "code",
   "execution_count": 1,
   "metadata": {},
   "outputs": [
    {
     "name": "stdout",
     "output_type": "stream",
     "text": [
      "Input your name: haegun\n",
      "input your last name: lee\n",
      "Hello haegun lee\n"
     ]
    }
   ],
   "source": [
    "A = input(\"Input your name: \")\n",
    "B = input(\"input your last name: \")\n",
    "print(\"Hello\", A, B)"
   ]
  },
  {
   "cell_type": "code",
   "execution_count": 1,
   "metadata": {},
   "outputs": [
    {
     "name": "stdout",
     "output_type": "stream",
     "text": [
      "Input the first number: 10\n",
      "input the second number: 30\n",
      "10 + 30 = 40\n"
     ]
    }
   ],
   "source": [
    "A = int(input(\"Input the first number: \"))\n",
    "B = int(input(\"input the second number: \"))\n",
    "C = A + B\n",
    "print(A,\"+\",B, \"=\", C)"
   ]
  },
  {
   "cell_type": "code",
   "execution_count": 3,
   "metadata": {},
   "outputs": [
    {
     "name": "stdout",
     "output_type": "stream",
     "text": [
      "Input the first number: 10\n",
      "input the second number: 20\n",
      "input the third number: 30\n",
      "10 + 20 * 30 = 610\n",
      "( 10 + 20 ) * 30 = 900\n"
     ]
    }
   ],
   "source": [
    "A = int(input(\"Input the first number: \"))\n",
    "B = int(input(\"input the second number: \"))\n",
    "C = int(input(\"input the third number: \"))\n",
    "D = A + B * C\n",
    "E =(A+B)*C\n",
    "\n",
    "print(A,\"+\",B,\"*\",C, \"=\", D)\n",
    "print(\"(\", A, \"+\", B, \")\", \"*\", C, \"=\", E)"
   ]
  },
  {
   "cell_type": "code",
   "execution_count": 5,
   "metadata": {},
   "outputs": [
    {
     "name": "stdout",
     "output_type": "stream",
     "text": [
      "Enter the number of slices of pizza you started with: 10\n",
      "How many slices have you eaten?5\n",
      "you have 5 slicing remaining.\n"
     ]
    }
   ],
   "source": [
    "A = int(input(\"Enter the number of slices of pizza you started with: \"))\n",
    "B = int(input(\"How many slices have you eaten?\"))\n",
    "C = A-B\n",
    "print(\"you have\",C,\"slicing remaining.\")"
   ]
  },
  {
   "cell_type": "code",
   "execution_count": 1,
   "metadata": {},
   "outputs": [
    {
     "name": "stdout",
     "output_type": "stream",
     "text": [
      "What is your name?Minsu\n",
      "How old are you?34\n",
      "Minsu , next birthday you will be 35\n"
     ]
    }
   ],
   "source": [
    "A = input(\"What is your name?\")\n",
    "B = int(input(\"How old are you?\"))\n",
    "C = B + 1\n",
    "print(A, \",\", \"next birthday you will be\", C)"
   ]
  },
  {
   "cell_type": "code",
   "execution_count": 1,
   "metadata": {},
   "outputs": [
    {
     "name": "stdout",
     "output_type": "stream",
     "text": [
      "What is the total cost of the bill?5500\n",
      "How many people are there?3\n",
      "Each person should pay 1833.3333333333333 won.\n"
     ]
    }
   ],
   "source": [
    "A = int(input(\"What is the total cost of the bill?\"))\n",
    "B = int(input(\"How many people are there?\"))\n",
    "C = A / B\n",
    "print(\"Each person should pay\", C, \"won.\")"
   ]
  },
  {
   "cell_type": "code",
   "execution_count": null,
   "metadata": {},
   "outputs": [],
   "source": []
  }
 ],
 "metadata": {
  "kernelspec": {
   "display_name": "Python 3",
   "language": "python",
   "name": "python3"
  },
  "language_info": {
   "codemirror_mode": {
    "name": "ipython",
    "version": 3
   },
   "file_extension": ".py",
   "mimetype": "text/x-python",
   "name": "python",
   "nbconvert_exporter": "python",
   "pygments_lexer": "ipython3",
   "version": "3.8.3"
  }
 },
 "nbformat": 4,
 "nbformat_minor": 4
}
