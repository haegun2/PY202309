{
 "cells": [
  {
   "cell_type": "code",
   "execution_count": 23,
   "metadata": {},
   "outputs": [
    {
     "name": "stdout",
     "output_type": "stream",
     "text": [
      "-----TF dictionary-----\n",
      "{'a': 3, 'with': 1, 'lies': 1, 'brown': 1, 'opportunity.': 1, 'begins': 1, 'glitters': 1, 'to': 1, 'all': 1, 'of': 2, 'miles': 1, 'not': 1, 'books.': 1, 'step.': 1, 'dog.': 1, 'middle': 1, 'is': 1, 'jumps': 1, 'in': 1, 'the': 3, 'journey': 1, 'thousand': 1, 'fox': 1, 'that': 1, 'likes': 1, 'gold.': 1, 'she': 1, 'read': 1, 'single': 1, 'difficulty': 1, 'over': 1, 'quick': 1, 'lazy': 1}\n",
      "-----Top-3 TF terms-----\n",
      "1 a 3\n",
      "2 the 3\n",
      "3 of 2\n"
     ]
    }
   ],
   "source": [
    "import operator\n",
    "sentences = [\n",
    "    \"The quick brown fox jumps over the lazy dog.\",\n",
    "    \"A journey of a thousand miles begins with a single step.\",\n",
    "    \"All that glitters is not gold.\",    \n",
    "    \"In the middle of difficulty lies opportunity.\",\n",
    "    \"She likes to read books.\"\n",
    "]\n",
    "total_terms = set()\n",
    "tockenList =[]\n",
    "# TODO 1: 토큰 집합 만들기\n",
    "for line in sentences:\n",
    "    words = line.lower().split()\n",
    "    for word in words:\n",
    "        total_terms.add(word)\n",
    "        tockenList.append(word)\n",
    "\n",
    "\n",
    "term_frequency_dict = {} # 토큰 별 단어 빈도 저장할 딕셔너리\n",
    "# TODO 2: 토큰 별 단어 빈도를 딕셔너리에 저장\n",
    "for word in total_terms:\n",
    "    term_frequency_dict[word] = 0\n",
    "    \n",
    "for i in tockenList:\n",
    "    if i in term_frequency_dict:\n",
    "        term_frequency_dict[i] += 1\n",
    "\n",
    "sortedList = sorted(term_frequency_dict.items(), key = operator.itemgetter(1), reverse=True)        \n",
    "\n",
    "# 토큰 빈도 출력\n",
    "print(\"-----TF dictionary-----\")\n",
    "print(term_frequency_dict)\n",
    "\n",
    "print(\"-----Top-3 TF terms-----\")\n",
    "# TODO 3: Top-3 토큰 빈도를 갖는 단어의 순위, 단어, 빈도 출력 코드 작성\n",
    "rank = 1\n",
    "for key, val in sortedList:\n",
    "    print(rank, key, val)\n",
    "    if rank ==3:\n",
    "        break\n",
    "    rank += 1"
   ]
  },
  {
   "cell_type": "code",
   "execution_count": 22,
   "metadata": {
    "scrolled": true
   },
   "outputs": [
    {
     "name": "stdout",
     "output_type": "stream",
     "text": [
      "-----TF dictionary-----\n",
      "{'a': 3, 'with': 1, 'lies': 1, 'brown': 1, 'opportunity.': 1, 'begins': 1, 'glitters': 1, 'to': 1, 'all': 1, 'of': 2, 'miles': 1, 'not': 1, 'books.': 1, 'step.': 1, 'dog.': 1, 'middle': 1, 'is': 1, 'jumps': 1, 'in': 1, 'the': 3, 'journey': 1, 'thousand': 1, 'fox': 1, 'that': 1, 'likes': 1, 'gold.': 1, 'she': 1, 'read': 1, 'single': 1, 'difficulty': 1, 'over': 1, 'quick': 1, 'lazy': 1}\n",
      "-----Top-3 TF terms-----\n",
      "1 a 3\n",
      "2 the 3\n",
      "3 of 2\n"
     ]
    }
   ],
   "source": [
    "import operator\n",
    "sentences = [\n",
    "    \"The quick brown fox jumps over the lazy dog.\",\n",
    "    \"A journey of a thousand miles begins with a single step.\",\n",
    "    \"All that glitters is not gold.\",    \n",
    "    \"In the middle of difficulty lies opportunity.\",\n",
    "    \"She likes to read books.\"\n",
    "]\n",
    "total_terms = set()\n",
    "tockenList =[]\n",
    "# TODO 1: 토큰 집합 만들기\n",
    "for line in sentences:\n",
    "    words = line.lower().split()\n",
    "    for word in words:\n",
    "        total_terms.add(word)\n",
    "        tockenList.append(word)\n",
    "\n",
    "\n",
    "term_frequency_dict = {} # 토큰 별 단어 빈도 저장할 딕셔너리\n",
    "# TODO 2: 토큰 별 단어 빈도를 딕셔너리에 저장\n",
    "for word in total_terms:\n",
    "    term_frequency_dict[word] = 0\n",
    "    \n",
    "for i in tockenList:\n",
    "    if i in term_frequency_dict:\n",
    "        term_frequency_dict[i] += 1\n",
    "\n",
    "sortedList = sorted(term_frequency_dict.items(), key = operator.itemgetter(1), reverse=True)        \n",
    "\n",
    "# 토큰 빈도 출력\n",
    "print(\"-----TF dictionary-----\")\n",
    "print(term_frequency_dict)\n",
    "\n",
    "print(\"-----Top-3 TF terms-----\")\n",
    "# TODO 3: Top-3 토큰 빈도를 갖는 단어의 순위, 단어, 빈도 출력 코드 작성\n",
    "rank = 1\n",
    "for key, val in sortedList:\n",
    "    print(rank, key, val)\n",
    "    if rank ==3:\n",
    "        break\n",
    "    rank += 1"
   ]
  },
  {
   "cell_type": "code",
   "execution_count": null,
   "metadata": {},
   "outputs": [],
   "source": []
  }
 ],
 "metadata": {
  "kernelspec": {
   "display_name": "Python 3",
   "language": "python",
   "name": "python3"
  },
  "language_info": {
   "codemirror_mode": {
    "name": "ipython",
    "version": 3
   },
   "file_extension": ".py",
   "mimetype": "text/x-python",
   "name": "python",
   "nbconvert_exporter": "python",
   "pygments_lexer": "ipython3",
   "version": "3.8.3"
  }
 },
 "nbformat": 4,
 "nbformat_minor": 4
}
