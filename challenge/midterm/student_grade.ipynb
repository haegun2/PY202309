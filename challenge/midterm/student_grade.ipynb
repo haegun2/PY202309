{
 "cells": [
  {
   "cell_type": "code",
   "execution_count": 2,
   "id": "2fff1efd",
   "metadata": {},
   "outputs": [
    {
     "name": "stdout",
     "output_type": "stream",
     "text": [
      "-----학생들의 평균 점수-----\n",
      "실바 의 평균 점수는 73.66666666666667 입니다.\n",
      "산토스 의 평균 점수는 86.93333333333334 입니다.\n",
      "맥그리거 의 평균 점수는 85.7 입니다.\n",
      "알도 의 평균 점수는 85.43333333333332 입니다.\n",
      "로우지 의 평균 점수는 83.10000000000001 입니다.\n",
      "누네스 의 평균 점수는 85.93333333333334 입니다.\n"
     ]
    }
   ],
   "source": [
    "#학생별 성적들을 딕셔너리에 저장하는 함수\n",
    "def load_data():\n",
    "    lines = open(\"./students.csv\", \"r\", encoding=\"utf8\").readlines()\n",
    "    for line in lines[1:]:\n",
    "        a = line.strip().split(\",\")\n",
    "        stu_info[a[0]] = [float(a[1]), float(a[2]), float(a[3])]\n",
    "#숫자 리스트를 받아 평균을 구하는 함수\n",
    "def getAverage():\n",
    "    for name, scores in stu_info.items():\n",
    "        average = sum(scores) / len(scores)\n",
    "        stu_ave[name] = average\n",
    "\n",
    "stu_info = {}\n",
    "stu_ave = {}\n",
    "\n",
    "load_data()\n",
    "stu_name = list(stu_info.keys())\n",
    "getAverage()\n",
    "\n",
    "#학생 평균점수를 출력\n",
    "print(\"-----학생들의 평균 점수-----\")\n",
    "for i in range(len(stu_info.keys())):\n",
    "    print(stu_name[i], \"의 평균 점수는\", stu_ave[stu_name[i]], \"입니다.\")\n",
    "\n",
    "#학생 평균 점수를 csv 파일로도 쓰기\n",
    "wr = open(\"./average.txt\", 'w',encoding=\"utf8\")\n",
    "wr.write(\"-----학생들의 평균 점수-----\\n\")\n",
    "for name, average in stu_ave.items():\n",
    "    data = (f\"{name}의 평균 점수는 {average}입니다.\\n\")\n",
    "    wr.write(data)\n",
    "wr.close()"
   ]
  },
  {
   "cell_type": "code",
   "execution_count": null,
   "id": "9476bdae",
   "metadata": {},
   "outputs": [],
   "source": []
  }
 ],
 "metadata": {
  "kernelspec": {
   "display_name": "Python 3 (ipykernel)",
   "language": "python",
   "name": "python3"
  },
  "language_info": {
   "codemirror_mode": {
    "name": "ipython",
    "version": 3
   },
   "file_extension": ".py",
   "mimetype": "text/x-python",
   "name": "python",
   "nbconvert_exporter": "python",
   "pygments_lexer": "ipython3",
   "version": "3.11.4"
  }
 },
 "nbformat": 4,
 "nbformat_minor": 5
}
