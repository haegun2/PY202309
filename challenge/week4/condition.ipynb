{
 "cells": [
  {
   "cell_type": "code",
   "execution_count": 10,
   "metadata": {},
   "outputs": [
    {
     "name": "stdout",
     "output_type": "stream",
     "text": [
      "Is it raining? (Y/N)y\n",
      "is it windy? (Y/N)y\n",
      "It is too windy for an umbrella\n"
     ]
    }
   ],
   "source": [
    "a=input(\"Is it raining? (Y/N)\").lower()\n",
    "b=input(\"is it windy? (Y/N)\").lower()\n",
    "#사용자에게 입력을 받는데, 그것을 소문자로 변환하여 변수 a,b에 저장\n",
    "\n",
    "if (a=='y' and b=='y'): #a,b가 모두 y일 때 출력\n",
    "    print(\"It is too windy for an umbrella\")\n",
    "elif (a=='y' and b=='n'): #아니면 a는 y이고 b 는 n일 때 출력\n",
    "    print(\"Take an umbrella\")\n",
    "elif (a=='n' and b=='y'):#아니면 a는 n이고 b 는 y일 때 출력\n",
    "    print(\"Please take a coat\")\n",
    "elif (a=='n' and b=='n'):#a,b가 모두 n일 때 출력\n",
    "    print(\"Have a nice day\")\n",
    "elif(a!='y'or a!='n' or b!='y' or b!='n'): \n",
    "    print(\"incorrect input\")  #a가 y나 n이 아니고, b가 y나 n이 아닐때 출력"
   ]
  },
  {
   "cell_type": "code",
   "execution_count": null,
   "metadata": {},
   "outputs": [],
   "source": []
  }
 ],
 "metadata": {
  "kernelspec": {
   "display_name": "Python 3",
   "language": "python",
   "name": "python3"
  },
  "language_info": {
   "codemirror_mode": {
    "name": "ipython",
    "version": 3
   },
   "file_extension": ".py",
   "mimetype": "text/x-python",
   "name": "python",
   "nbconvert_exporter": "python",
   "pygments_lexer": "ipython3",
   "version": "3.8.3"
  }
 },
 "nbformat": 4,
 "nbformat_minor": 4
}
