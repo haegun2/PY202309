{
 "cells": [
  {
   "cell_type": "code",
   "execution_count": 10,
   "metadata": {},
   "outputs": [
    {
     "name": "stdout",
     "output_type": "stream",
     "text": [
      "Is it raining? (Y/N)y\n",
      "is it windy? (Y/N)y\n",
      "It is too windy for an umbrella\n"
     ]
    }
   ],
   "source": [
    "a=input(\"Is it raining? (Y/N)\").lower()\n",
    "b=input(\"is it windy? (Y/N)\").lower()\n",
    "\n",
    "if (a=='y' and b=='y'):\n",
    "    print(\"It is too windy for an umbrella\")\n",
    "elif (a=='y' and b=='n'):\n",
    "    print(\"Take an umbrella\")\n",
    "elif (a=='n' and b=='y'):\n",
    "    print(\"Please take a coat\")\n",
    "elif (a=='n' and b=='n'):\n",
    "    print(\"Have a nice day\")\n",
    "elif(a!='y'or a!='n' or b!='y' or b!='n'):\n",
    "    print(\"incorrect input\")"
   ]
  },
  {
   "cell_type": "code",
   "execution_count": null,
   "metadata": {},
   "outputs": [],
   "source": []
  }
 ],
 "metadata": {
  "kernelspec": {
   "display_name": "Python 3",
   "language": "python",
   "name": "python3"
  },
  "language_info": {
   "codemirror_mode": {
    "name": "ipython",
    "version": 3
   },
   "file_extension": ".py",
   "mimetype": "text/x-python",
   "name": "python",
   "nbconvert_exporter": "python",
   "pygments_lexer": "ipython3",
   "version": "3.8.3"
  }
 },
 "nbformat": 4,
 "nbformat_minor": 4
}
